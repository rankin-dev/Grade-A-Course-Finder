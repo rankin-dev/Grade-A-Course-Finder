{
 "cells": [
  {
   "cell_type": "code",
   "execution_count": null,
   "metadata": {},
   "outputs": [],
   "source": [
    "# Import panda\n",
    "import pandas as pd\n",
    "# create empty dictionary\n",
    "coursefinder = {}\n",
    "#create a function that returns error when ratings are outside range of 1-5\n",
    "def get_error_ratings_int(prompt):\n",
    "    while True:\n",
    "        try:\n",
    "            value = int(input(prompt))\n",
    "        except ValueError:\n",
    "            print(\"Sorry, I didn't understand that.\")\n",
    "            continue\n",
    "\n",
    "        if value < 0 or value > 5:\n",
    "            print(\"Sorry, your response must between 1-5.\")\n",
    "            continue\n",
    "        else:\n",
    "            break\n",
    "    return value\n",
    "\n",
    "#create a function that returns error when the course code isn't right (ABCD123 format)\n",
    "def get_error_course_name(prompt):\n",
    "    while True:\n",
    "        error = 0\n",
    "        try:\n",
    "            name = str(input(prompt))\n",
    "        except ValueError:\n",
    "            print(\"You need to enter a course code with 4 letters followed by 3 numbers.\")\n",
    "            continue\n",
    "        first_four = name[0:4]\n",
    "        last_three = name[-3:0]\n",
    "        if(len(name)>7 or len(name)<7):\n",
    "          print(\"The course name must be 7 characters long with 4 letters and 3 numbers.\")\n",
    "          continue\n",
    "        for char in first_four:\n",
    "          if char.isdigit():\n",
    "            error = 1\n",
    "            print(\"Sorry the course name must start with 4 characters.\")\n",
    "        for char in last_three:\n",
    "          if char.isalpha():\n",
    "            error = 1\n",
    "            print(\"Sorry the course name must end with 3 numbers.\")\n",
    "        if error == 0:\n",
    "            break\n",
    "        if error == 1:\n",
    "            continue\n",
    "    return name\n",
    "\n",
    "df = pd.DataFrame ({\"course_name\": [get_error_course_name(\"What is the course name? \")],\n",
    "                    \"professor_name\": [input(\"Professor's name: \")],\n",
    "                    \"course_rating\":[get_error_ratings_int(\"Please enter your rating from 1-5: \")],\n",
    "                    \"difficulty\": [get_error_ratings_int(\"How difficult was the course (1 being too easy and 5 being extremely difficult) \")],\n",
    "                    \"retake\": [input(\"Would you take this course again? (YES or NO) \")],\n",
    "                    \"workload\":[get_error_ratings_int(\"How was the workload? (1 being very light to 5 being too much) \")] ,\n",
    "                    \"intensity\" : [get_error_ratings_int(\"Were the exams/readings simple or intense? (1 being easiest to 5 being the hardest)\")],\n",
    "                    \"outcome\": [input(\"Did you learn something substantial from the class? (Yes or No)\")]},\n",
    "                   index = ['answers'])\n",
    "                   \n",
    "\n",
    "df.to_csv('Course_Finder.csv')"
   ]
  },
  {
   "cell_type": "code",
   "execution_count": null,
   "metadata": {},
   "outputs": [],
   "source": []
  },
  {
   "cell_type": "code",
   "execution_count": null,
   "metadata": {},
   "outputs": [],
   "source": []
  }
 ],
 "metadata": {
  "kernelspec": {
   "display_name": "Python 3",
   "language": "python",
   "name": "python3"
  },
  "language_info": {
   "codemirror_mode": {
    "name": "ipython",
    "version": 3
   },
   "file_extension": ".py",
   "mimetype": "text/x-python",
   "name": "python",
   "nbconvert_exporter": "python",
   "pygments_lexer": "ipython3",
   "version": "3.8.1"
  }
 },
 "nbformat": 4,
 "nbformat_minor": 4
}
