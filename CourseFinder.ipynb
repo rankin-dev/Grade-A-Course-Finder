{
 "cells": [
  {
   "cell_type": "markdown",
   "metadata": {},
   "source": []
  },
  {
   "cell_type": "markdown",
   "metadata": {},
   "source": [
    "Before we start, we import some preliminary libraries. We will also import (below) the accompanying `lorenz.py` file, which contains the actual solver and plotting routine."
   ]
  },
  {
   "cell_type": "code",
   "execution_count": 13,
   "metadata": {},
   "outputs": [
    {
     "ename": "SyntaxError",
     "evalue": "invalid syntax (<ipython-input-13-c377d4a8802d>, line 10)",
     "output_type": "error",
     "traceback": [
      "\u001b[0;36m  File \u001b[0;32m\"<ipython-input-13-c377d4a8802d>\"\u001b[0;36m, line \u001b[0;32m10\u001b[0m\n\u001b[0;31m    index=['answers'])\u001b[0m\n\u001b[0m         ^\u001b[0m\n\u001b[0;31mSyntaxError\u001b[0m\u001b[0;31m:\u001b[0m invalid syntax\n"
     ]
    }
   ],
   "source": [
    "import csv  \n",
    "    \n",
    "# field names  \n",
    "fields = ['Name', 'Professor']  \n",
    "    \n",
    "# data rows of csv file  \n",
    "rows = ({'A': [input('name; ')],\n",
    "                   'B': [12],\n",
    "                   'C': [13]},\n",
    "                  index=['answers'])  \n",
    "\n",
    "    \n",
    "# name of csv file  \n",
    "file = \"course_finder.csv\"\n",
    "    \n",
    "# writing to csv file  \n",
    "with open(filename, 'w') as csvfile:  \n",
    "    # creating a csv writer object  \n",
    "    csvwriter = csv.writer(csvfile)  \n",
    "        \n",
    "    # writing the fields  \n",
    "    csvwriter.writerow(fields)  \n",
    "        \n",
    "    # writing the data rows  \n",
    "    csvwriter.writerows(rows)\n",
    "import pandas as pd\n",
    "read = pd.read_csv('course_finder.csv')\n",
    "read.head()"
   ]
  },
  {
   "cell_type": "markdown",
   "metadata": {},
   "source": []
  },
  {
   "cell_type": "code",
   "execution_count": 17,
   "metadata": {},
   "outputs": [
    {
     "name": "stdin",
     "output_type": "stream",
     "text": [
      "name;  f\n"
     ]
    }
   ],
   "source": [
    "import pandas as pd\n",
    "filename= 'course_finder.csv'\n",
    "df = pd.DataFrame({'A': [input('name; ')],\n",
    "                   'B': [12],\n",
    "                   'C': [13]},\n",
    "                  index=['answers'])\n",
    "\n",
    "\n",
    "  \n",
    "# saving the dataframe \n",
    "df.to_csv('course.csv') "
   ]
  },
  {
   "cell_type": "markdown",
   "metadata": {},
   "source": [
    "For the default set of parameters, we see the trajectories swirling around two points, called attractors. "
   ]
  },
  {
   "cell_type": "markdown",
   "metadata": {},
   "source": [
    "The object returned by `interactive` is a `Widget` object and it has attributes that contain the current result and arguments:"
   ]
  },
  {
   "cell_type": "code",
   "execution_count": 2,
   "metadata": {},
   "outputs": [
    {
     "name": "stdin",
     "output_type": "stream",
     "text": [
      "Name of the course:  Inst\n",
      "Professor's name:  Satyarth\n",
      "Please enter your rating from 1-5:  4\n",
      "How difficult was the course (1 being too easy and 5 being extremely difficult)  4\n",
      "Would you take this course again? (YES or NO)  Yes\n",
      "How was the workload? (1 being very light to 5 being too much)  4\n",
      "Were the exams/readings simple or intense? (1 being easiest to 5 being the hardest) 4\n",
      "Did you learn something substantial from the class? (Yes or No) Yes\n"
     ]
    }
   ],
   "source": [
    "# Import panda\n",
    "import pandas as pd\n",
    "# create empty dictionary\n",
    "coursefinder = {}\n",
    "#create a function that returns error when ratings are outside range of 1-5\n",
    "def get_error_ratings_int(prompt):\n",
    "    while True:\n",
    "        try:\n",
    "            value = int(input(prompt))\n",
    "        except ValueError:\n",
    "            print(\"Sorry, I didn't understand that.\")\n",
    "            continue\n",
    "\n",
    "        if value < 0 != value > 5:\n",
    "            print(\"Sorry, your response must between 1-5\")\n",
    "            continue\n",
    "        else:\n",
    "            break\n",
    "    return value\n",
    "\n",
    "\n",
    "df = pd.DataFrame ({\"course_name\": [input(\"Name of the course: \")],\n",
    "                    \"professor_name\": [input(\"Professor's name: \")],\n",
    "                    \"course_rating\":[get_error_ratings_int(\"Please enter your rating from 1-5: \")],\n",
    "                    \"difficulty\": [input(\"How difficult was the course (1 being too easy and 5 being extremely difficult) \")],\n",
    "                    \"retake\": [input(\"Would you take this course again? (YES or NO) \")],\n",
    "                    \"workload\":[input(\"How was the workload? (1 being very light to 5 being too much) \")] ,\n",
    "                    \"intensity\" : [input(\"Were the exams/readings simple or intense? (1 being easiest to 5 being the hardest)\")],\n",
    "                    \"outcome\": [input(\"Did you learn something substantial from the class? (Yes or No)\")]},\n",
    "                   index = ['answers'])\n",
    "                   \n",
    "\n",
    "df.to_csv('Course_Finder.csv')"
   ]
  },
  {
   "cell_type": "code",
   "execution_count": null,
   "metadata": {},
   "outputs": [],
   "source": [
    "w.kwargs"
   ]
  },
  {
   "cell_type": "markdown",
   "metadata": {},
   "source": [
    "After interacting with the system, we can take the result and perform further computations. In this case, we compute the average positions in \\\\(x\\\\), \\\\(y\\\\) and \\\\(z\\\\)."
   ]
  },
  {
   "cell_type": "code",
   "execution_count": null,
   "metadata": {},
   "outputs": [],
   "source": [
    "xyz_avg = x_t.mean(axis=1)"
   ]
  },
  {
   "cell_type": "code",
   "execution_count": null,
   "metadata": {},
   "outputs": [],
   "source": [
    "xyz_avg.shape"
   ]
  },
  {
   "cell_type": "markdown",
   "metadata": {},
   "source": [
    "Creating histograms of the average positions (across different trajectories) show that, on average, the trajectories swirl about the attractors."
   ]
  },
  {
   "cell_type": "code",
   "execution_count": null,
   "metadata": {},
   "outputs": [],
   "source": [
    "from matplotlib import pyplot as plt"
   ]
  },
  {
   "cell_type": "code",
   "execution_count": null,
   "metadata": {},
   "outputs": [],
   "source": [
    "plt.hist(xyz_avg[:,0])\n",
    "plt.title('Average $x(t)$');"
   ]
  },
  {
   "cell_type": "code",
   "execution_count": null,
   "metadata": {},
   "outputs": [],
   "source": [
    "plt.hist(xyz_avg[:,1])\n",
    "plt.title('Average $y(t)$');"
   ]
  }
 ],
 "metadata": {
  "kernelspec": {
   "display_name": "Python 3",
   "language": "python",
   "name": "python3"
  },
  "language_info": {
   "codemirror_mode": {
    "name": "ipython",
    "version": 3
   },
   "file_extension": ".py",
   "mimetype": "text/x-python",
   "name": "python",
   "nbconvert_exporter": "python",
   "pygments_lexer": "ipython3",
   "version": "3.7.6"
  }
 },
 "nbformat": 4,
 "nbformat_minor": 4
}
