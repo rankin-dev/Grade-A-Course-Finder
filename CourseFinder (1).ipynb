{
 "cells": [
  {
   "cell_type": "markdown",
   "metadata": {},
   "source": [
    "Grade A Course Finder"
   ]
  },
  {
   "cell_type": "code",
   "execution_count": 2,
   "metadata": {},
   "outputs": [
    {
     "name": "stdin",
     "output_type": "stream",
     "text": [
      "Name of the course:  Inst\n",
      "Professor's name:  Satyarth\n",
      "Please enter your rating from 1-5:  4\n",
      "How difficult was the course (1 being too easy and 5 being extremely difficult)  4\n",
      "Would you take this course again? (YES or NO)  Yes\n",
      "How was the workload? (1 being very light to 5 being too much)  4\n",
      "Were the exams/readings simple or intense? (1 being easiest to 5 being the hardest) 4\n",
      "Did you learn something substantial from the class? (Yes or No) Yes\n"
     ]
    }
   ],
   "source": [
    "# Import panda\n",
    "import pandas as pd\n",
    "# create empty dictionary\n",
    "coursefinder = {}\n",
    "#create a function that returns error when ratings are outside range of 1-5\n",
    "def get_error_ratings_int(prompt):\n",
    "    while True:\n",
    "        try:\n",
    "            value = int(input(prompt))\n",
    "        except ValueError:\n",
    "            print(\"Sorry, I didn't understand that.\")\n",
    "            continue\n",
    "\n",
    "        if value < 0 != value > 5:\n",
    "            print(\"Sorry, your response must between 1-5\")\n",
    "            continue\n",
    "        else:\n",
    "            break\n",
    "    return value\n",
    "\n",
    "\n",
    "df = pd.DataFrame ({\"course_name\": [input(\"Name of the course: \")],\n",
    "                    \"professor_name\": [input(\"Professor's name: \")],\n",
    "                    \"course_rating\":[get_error_ratings_int(\"Please enter your rating from 1-5: \")],\n",
    "                    \"difficulty\": [input(\"How difficult was the course (1 being too easy and 5 being extremely difficult) \")],\n",
    "                    \"retake\": [input(\"Would you take this course again? (YES or NO) \")],\n",
    "                    \"workload\":[input(\"How was the workload? (1 being very light to 5 being too much) \")] ,\n",
    "                    \"intensity\" : [input(\"Were the exams/readings simple or intense? (1 being easiest to 5 being the hardest)\")],\n",
    "                    \"outcome\": [input(\"Did you learn something substantial from the class? (Yes or No)\")]},\n",
    "                   index = ['answers'])\n",
    "                   \n",
    "\n",
    "df.to_csv('Course_Finder.csv')"
   ]
  }
 ],
 "metadata": {
  "kernelspec": {
   "display_name": "Python 3",
   "language": "python",
   "name": "python3"
  },
  "language_info": {
   "codemirror_mode": {
    "name": "ipython",
    "version": 3
   },
   "file_extension": ".py",
   "mimetype": "text/x-python",
   "name": "python",
   "nbconvert_exporter": "python",
   "pygments_lexer": "ipython3",
   "version": "3.7.6"
  }
 },
 "nbformat": 4,
 "nbformat_minor": 4
}
